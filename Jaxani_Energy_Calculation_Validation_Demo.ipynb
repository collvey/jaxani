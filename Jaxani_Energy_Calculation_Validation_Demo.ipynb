{
  "nbformat": 4,
  "nbformat_minor": 0,
  "metadata": {
    "colab": {
      "provenance": [],
      "machine_shape": "hm",
      "toc_visible": true,
      "gpuClass": "premium",
      "authorship_tag": "ABX9TyOIrCQWQmZHnnYHlf8JTh4V",
      "include_colab_link": true
    },
    "kernelspec": {
      "name": "python3",
      "display_name": "Python 3"
    },
    "language_info": {
      "name": "python"
    },
    "accelerator": "GPU",
    "gpuClass": "premium"
  },
  "cells": [
    {
      "cell_type": "markdown",
      "metadata": {
        "id": "view-in-github",
        "colab_type": "text"
      },
      "source": [
        "<a href=\"https://colab.research.google.com/github/collvey/jaxani/blob/main/Jaxani_Energy_Calculation_Validation_Demo.ipynb\" target=\"_parent\"><img src=\"https://colab.research.google.com/assets/colab-badge.svg\" alt=\"Open In Colab\"/></a>"
      ]
    },
    {
      "cell_type": "markdown",
      "source": [
        "# Pre-steps"
      ],
      "metadata": {
        "id": "g4w-mr7t4d7v"
      }
    },
    {
      "cell_type": "code",
      "source": [
        "!git clone https://github.com/collvey/jaxani.git"
      ],
      "metadata": {
        "colab": {
          "base_uri": "https://localhost:8080/"
        },
        "id": "BDPRmcakcYm9",
        "outputId": "68766857-ef8e-46e8-cc96-833125d6bb85"
      },
      "execution_count": 2,
      "outputs": [
        {
          "output_type": "stream",
          "name": "stdout",
          "text": [
            "Cloning into 'jaxani'...\n",
            "remote: Enumerating objects: 203, done.\u001b[K\n",
            "remote: Counting objects: 100% (203/203), done.\u001b[K\n",
            "remote: Compressing objects: 100% (137/137), done.\u001b[K\n",
            "remote: Total 203 (delta 107), reused 147 (delta 57), pack-reused 0\u001b[K\n",
            "Receiving objects: 100% (203/203), 70.96 KiB | 2.73 MiB/s, done.\n",
            "Resolving deltas: 100% (107/107), done.\n"
          ]
        }
      ]
    },
    {
      "cell_type": "code",
      "source": [
        "import sys\n",
        "\n",
        "sys.path.insert(0, '/content/jaxani')"
      ],
      "metadata": {
        "id": "jK96JU-ZhTV7"
      },
      "execution_count": 3,
      "outputs": []
    },
    {
      "cell_type": "code",
      "source": [
        "!pip install -r ./jaxani/test_requirements.txt"
      ],
      "metadata": {
        "colab": {
          "base_uri": "https://localhost:8080/"
        },
        "id": "qYBCc4yphhNo",
        "outputId": "98d6bdee-1403-467c-a155-7bd4d80c3356"
      },
      "execution_count": 4,
      "outputs": [
        {
          "output_type": "stream",
          "name": "stdout",
          "text": [
            "Requirement already satisfied: flax in /usr/local/lib/python3.10/dist-packages (from -r ./jaxani/test_requirements.txt (line 1)) (0.8.1)\n",
            "Collecting lark (from -r ./jaxani/test_requirements.txt (line 2))\n",
            "  Downloading lark-1.1.9-py3-none-any.whl (111 kB)\n",
            "\u001b[2K     \u001b[90m━━━━━━━━━━━━━━━━━━━━━━━━━━━━━━━━━━━━━━━━\u001b[0m \u001b[32m111.7/111.7 kB\u001b[0m \u001b[31m1.6 MB/s\u001b[0m eta \u001b[36m0:00:00\u001b[0m\n",
            "\u001b[?25hRequirement already satisfied: optax in /usr/local/lib/python3.10/dist-packages (from -r ./jaxani/test_requirements.txt (line 3)) (0.1.9)\n",
            "Requirement already satisfied: psutil in /usr/local/lib/python3.10/dist-packages (from -r ./jaxani/test_requirements.txt (line 4)) (5.9.5)\n",
            "Requirement already satisfied: tensorflow in /usr/local/lib/python3.10/dist-packages (from -r ./jaxani/test_requirements.txt (line 5)) (2.15.0)\n",
            "Requirement already satisfied: numpy>=1.22 in /usr/local/lib/python3.10/dist-packages (from flax->-r ./jaxani/test_requirements.txt (line 1)) (1.25.2)\n",
            "Requirement already satisfied: jax>=0.4.19 in /usr/local/lib/python3.10/dist-packages (from flax->-r ./jaxani/test_requirements.txt (line 1)) (0.4.23)\n",
            "Requirement already satisfied: msgpack in /usr/local/lib/python3.10/dist-packages (from flax->-r ./jaxani/test_requirements.txt (line 1)) (1.0.7)\n",
            "Requirement already satisfied: orbax-checkpoint in /usr/local/lib/python3.10/dist-packages (from flax->-r ./jaxani/test_requirements.txt (line 1)) (0.4.4)\n",
            "Requirement already satisfied: tensorstore in /usr/local/lib/python3.10/dist-packages (from flax->-r ./jaxani/test_requirements.txt (line 1)) (0.1.45)\n",
            "Requirement already satisfied: rich>=11.1 in /usr/local/lib/python3.10/dist-packages (from flax->-r ./jaxani/test_requirements.txt (line 1)) (13.7.0)\n",
            "Requirement already satisfied: typing-extensions>=4.2 in /usr/local/lib/python3.10/dist-packages (from flax->-r ./jaxani/test_requirements.txt (line 1)) (4.9.0)\n",
            "Requirement already satisfied: PyYAML>=5.4.1 in /usr/local/lib/python3.10/dist-packages (from flax->-r ./jaxani/test_requirements.txt (line 1)) (6.0.1)\n",
            "Requirement already satisfied: absl-py>=0.7.1 in /usr/local/lib/python3.10/dist-packages (from optax->-r ./jaxani/test_requirements.txt (line 3)) (1.4.0)\n",
            "Requirement already satisfied: chex>=0.1.7 in /usr/local/lib/python3.10/dist-packages (from optax->-r ./jaxani/test_requirements.txt (line 3)) (0.1.85)\n",
            "Requirement already satisfied: jaxlib>=0.1.37 in /usr/local/lib/python3.10/dist-packages (from optax->-r ./jaxani/test_requirements.txt (line 3)) (0.4.23+cuda12.cudnn89)\n",
            "Requirement already satisfied: astunparse>=1.6.0 in /usr/local/lib/python3.10/dist-packages (from tensorflow->-r ./jaxani/test_requirements.txt (line 5)) (1.6.3)\n",
            "Requirement already satisfied: flatbuffers>=23.5.26 in /usr/local/lib/python3.10/dist-packages (from tensorflow->-r ./jaxani/test_requirements.txt (line 5)) (23.5.26)\n",
            "Requirement already satisfied: gast!=0.5.0,!=0.5.1,!=0.5.2,>=0.2.1 in /usr/local/lib/python3.10/dist-packages (from tensorflow->-r ./jaxani/test_requirements.txt (line 5)) (0.5.4)\n",
            "Requirement already satisfied: google-pasta>=0.1.1 in /usr/local/lib/python3.10/dist-packages (from tensorflow->-r ./jaxani/test_requirements.txt (line 5)) (0.2.0)\n",
            "Requirement already satisfied: h5py>=2.9.0 in /usr/local/lib/python3.10/dist-packages (from tensorflow->-r ./jaxani/test_requirements.txt (line 5)) (3.9.0)\n",
            "Requirement already satisfied: libclang>=13.0.0 in /usr/local/lib/python3.10/dist-packages (from tensorflow->-r ./jaxani/test_requirements.txt (line 5)) (16.0.6)\n",
            "Requirement already satisfied: ml-dtypes~=0.2.0 in /usr/local/lib/python3.10/dist-packages (from tensorflow->-r ./jaxani/test_requirements.txt (line 5)) (0.2.0)\n",
            "Requirement already satisfied: opt-einsum>=2.3.2 in /usr/local/lib/python3.10/dist-packages (from tensorflow->-r ./jaxani/test_requirements.txt (line 5)) (3.3.0)\n",
            "Requirement already satisfied: packaging in /usr/local/lib/python3.10/dist-packages (from tensorflow->-r ./jaxani/test_requirements.txt (line 5)) (23.2)\n",
            "Requirement already satisfied: protobuf!=4.21.0,!=4.21.1,!=4.21.2,!=4.21.3,!=4.21.4,!=4.21.5,<5.0.0dev,>=3.20.3 in /usr/local/lib/python3.10/dist-packages (from tensorflow->-r ./jaxani/test_requirements.txt (line 5)) (3.20.3)\n",
            "Requirement already satisfied: setuptools in /usr/local/lib/python3.10/dist-packages (from tensorflow->-r ./jaxani/test_requirements.txt (line 5)) (67.7.2)\n",
            "Requirement already satisfied: six>=1.12.0 in /usr/local/lib/python3.10/dist-packages (from tensorflow->-r ./jaxani/test_requirements.txt (line 5)) (1.16.0)\n",
            "Requirement already satisfied: termcolor>=1.1.0 in /usr/local/lib/python3.10/dist-packages (from tensorflow->-r ./jaxani/test_requirements.txt (line 5)) (2.4.0)\n",
            "Requirement already satisfied: wrapt<1.15,>=1.11.0 in /usr/local/lib/python3.10/dist-packages (from tensorflow->-r ./jaxani/test_requirements.txt (line 5)) (1.14.1)\n",
            "Requirement already satisfied: tensorflow-io-gcs-filesystem>=0.23.1 in /usr/local/lib/python3.10/dist-packages (from tensorflow->-r ./jaxani/test_requirements.txt (line 5)) (0.36.0)\n",
            "Requirement already satisfied: grpcio<2.0,>=1.24.3 in /usr/local/lib/python3.10/dist-packages (from tensorflow->-r ./jaxani/test_requirements.txt (line 5)) (1.60.1)\n",
            "Requirement already satisfied: tensorboard<2.16,>=2.15 in /usr/local/lib/python3.10/dist-packages (from tensorflow->-r ./jaxani/test_requirements.txt (line 5)) (2.15.2)\n",
            "Requirement already satisfied: tensorflow-estimator<2.16,>=2.15.0 in /usr/local/lib/python3.10/dist-packages (from tensorflow->-r ./jaxani/test_requirements.txt (line 5)) (2.15.0)\n",
            "Requirement already satisfied: keras<2.16,>=2.15.0 in /usr/local/lib/python3.10/dist-packages (from tensorflow->-r ./jaxani/test_requirements.txt (line 5)) (2.15.0)\n",
            "Requirement already satisfied: wheel<1.0,>=0.23.0 in /usr/local/lib/python3.10/dist-packages (from astunparse>=1.6.0->tensorflow->-r ./jaxani/test_requirements.txt (line 5)) (0.42.0)\n",
            "Requirement already satisfied: toolz>=0.9.0 in /usr/local/lib/python3.10/dist-packages (from chex>=0.1.7->optax->-r ./jaxani/test_requirements.txt (line 3)) (0.12.1)\n",
            "Requirement already satisfied: scipy>=1.9 in /usr/local/lib/python3.10/dist-packages (from jax>=0.4.19->flax->-r ./jaxani/test_requirements.txt (line 1)) (1.11.4)\n",
            "Requirement already satisfied: markdown-it-py>=2.2.0 in /usr/local/lib/python3.10/dist-packages (from rich>=11.1->flax->-r ./jaxani/test_requirements.txt (line 1)) (3.0.0)\n",
            "Requirement already satisfied: pygments<3.0.0,>=2.13.0 in /usr/local/lib/python3.10/dist-packages (from rich>=11.1->flax->-r ./jaxani/test_requirements.txt (line 1)) (2.16.1)\n",
            "Requirement already satisfied: google-auth<3,>=1.6.3 in /usr/local/lib/python3.10/dist-packages (from tensorboard<2.16,>=2.15->tensorflow->-r ./jaxani/test_requirements.txt (line 5)) (2.27.0)\n",
            "Requirement already satisfied: google-auth-oauthlib<2,>=0.5 in /usr/local/lib/python3.10/dist-packages (from tensorboard<2.16,>=2.15->tensorflow->-r ./jaxani/test_requirements.txt (line 5)) (1.2.0)\n",
            "Requirement already satisfied: markdown>=2.6.8 in /usr/local/lib/python3.10/dist-packages (from tensorboard<2.16,>=2.15->tensorflow->-r ./jaxani/test_requirements.txt (line 5)) (3.5.2)\n",
            "Requirement already satisfied: requests<3,>=2.21.0 in /usr/local/lib/python3.10/dist-packages (from tensorboard<2.16,>=2.15->tensorflow->-r ./jaxani/test_requirements.txt (line 5)) (2.31.0)\n",
            "Requirement already satisfied: tensorboard-data-server<0.8.0,>=0.7.0 in /usr/local/lib/python3.10/dist-packages (from tensorboard<2.16,>=2.15->tensorflow->-r ./jaxani/test_requirements.txt (line 5)) (0.7.2)\n",
            "Requirement already satisfied: werkzeug>=1.0.1 in /usr/local/lib/python3.10/dist-packages (from tensorboard<2.16,>=2.15->tensorflow->-r ./jaxani/test_requirements.txt (line 5)) (3.0.1)\n",
            "Requirement already satisfied: etils[epath,epy] in /usr/local/lib/python3.10/dist-packages (from orbax-checkpoint->flax->-r ./jaxani/test_requirements.txt (line 1)) (1.6.0)\n",
            "Requirement already satisfied: nest_asyncio in /usr/local/lib/python3.10/dist-packages (from orbax-checkpoint->flax->-r ./jaxani/test_requirements.txt (line 1)) (1.6.0)\n",
            "Requirement already satisfied: cachetools<6.0,>=2.0.0 in /usr/local/lib/python3.10/dist-packages (from google-auth<3,>=1.6.3->tensorboard<2.16,>=2.15->tensorflow->-r ./jaxani/test_requirements.txt (line 5)) (5.3.2)\n",
            "Requirement already satisfied: pyasn1-modules>=0.2.1 in /usr/local/lib/python3.10/dist-packages (from google-auth<3,>=1.6.3->tensorboard<2.16,>=2.15->tensorflow->-r ./jaxani/test_requirements.txt (line 5)) (0.3.0)\n",
            "Requirement already satisfied: rsa<5,>=3.1.4 in /usr/local/lib/python3.10/dist-packages (from google-auth<3,>=1.6.3->tensorboard<2.16,>=2.15->tensorflow->-r ./jaxani/test_requirements.txt (line 5)) (4.9)\n",
            "Requirement already satisfied: requests-oauthlib>=0.7.0 in /usr/local/lib/python3.10/dist-packages (from google-auth-oauthlib<2,>=0.5->tensorboard<2.16,>=2.15->tensorflow->-r ./jaxani/test_requirements.txt (line 5)) (1.3.1)\n",
            "Requirement already satisfied: mdurl~=0.1 in /usr/local/lib/python3.10/dist-packages (from markdown-it-py>=2.2.0->rich>=11.1->flax->-r ./jaxani/test_requirements.txt (line 1)) (0.1.2)\n",
            "Requirement already satisfied: charset-normalizer<4,>=2 in /usr/local/lib/python3.10/dist-packages (from requests<3,>=2.21.0->tensorboard<2.16,>=2.15->tensorflow->-r ./jaxani/test_requirements.txt (line 5)) (3.3.2)\n",
            "Requirement already satisfied: idna<4,>=2.5 in /usr/local/lib/python3.10/dist-packages (from requests<3,>=2.21.0->tensorboard<2.16,>=2.15->tensorflow->-r ./jaxani/test_requirements.txt (line 5)) (3.6)\n",
            "Requirement already satisfied: urllib3<3,>=1.21.1 in /usr/local/lib/python3.10/dist-packages (from requests<3,>=2.21.0->tensorboard<2.16,>=2.15->tensorflow->-r ./jaxani/test_requirements.txt (line 5)) (2.0.7)\n",
            "Requirement already satisfied: certifi>=2017.4.17 in /usr/local/lib/python3.10/dist-packages (from requests<3,>=2.21.0->tensorboard<2.16,>=2.15->tensorflow->-r ./jaxani/test_requirements.txt (line 5)) (2024.2.2)\n",
            "Requirement already satisfied: MarkupSafe>=2.1.1 in /usr/local/lib/python3.10/dist-packages (from werkzeug>=1.0.1->tensorboard<2.16,>=2.15->tensorflow->-r ./jaxani/test_requirements.txt (line 5)) (2.1.5)\n",
            "Requirement already satisfied: fsspec in /usr/local/lib/python3.10/dist-packages (from etils[epath,epy]->orbax-checkpoint->flax->-r ./jaxani/test_requirements.txt (line 1)) (2023.6.0)\n",
            "Requirement already satisfied: importlib_resources in /usr/local/lib/python3.10/dist-packages (from etils[epath,epy]->orbax-checkpoint->flax->-r ./jaxani/test_requirements.txt (line 1)) (6.1.1)\n",
            "Requirement already satisfied: zipp in /usr/local/lib/python3.10/dist-packages (from etils[epath,epy]->orbax-checkpoint->flax->-r ./jaxani/test_requirements.txt (line 1)) (3.17.0)\n",
            "Requirement already satisfied: pyasn1<0.6.0,>=0.4.6 in /usr/local/lib/python3.10/dist-packages (from pyasn1-modules>=0.2.1->google-auth<3,>=1.6.3->tensorboard<2.16,>=2.15->tensorflow->-r ./jaxani/test_requirements.txt (line 5)) (0.5.1)\n",
            "Requirement already satisfied: oauthlib>=3.0.0 in /usr/local/lib/python3.10/dist-packages (from requests-oauthlib>=0.7.0->google-auth-oauthlib<2,>=0.5->tensorboard<2.16,>=2.15->tensorflow->-r ./jaxani/test_requirements.txt (line 5)) (3.2.2)\n",
            "Installing collected packages: lark\n",
            "Successfully installed lark-1.1.9\n"
          ]
        }
      ]
    },
    {
      "cell_type": "markdown",
      "source": [
        "# Example Usage"
      ],
      "metadata": {
        "id": "tv-ve8zGhaLy"
      }
    },
    {
      "cell_type": "code",
      "source": [
        "import jax.numpy as jnp\n",
        "import unittest\n",
        "import os\n",
        "\n",
        "from flax.training import train_state, checkpoints\n",
        "from jaxani.constants import Constants\n",
        "from jaxani.aev import AEVComputer\n",
        "from jaxani.nn import SpeciesConverter\n",
        "from jaxani.utils import load_sae\n",
        "from jaxani.model import rebuild_model_ensemble\n",
        "from test_util.generate_test_checkpoint import generate_test_checkpoint\n",
        "from neurochem.parse_resources import parse_neurochem_resources\n",
        "\n",
        "CKPT_DIR = os.path.join('./jaxani/test/test_ckpts')\n",
        "CKPT_PREFIX = 'test_ensemble_'\n",
        "\n",
        "def jax_energy_from_restored_state(test_species, test_coordinates):\n",
        "    jax_species = jnp.array(test_species)\n",
        "    jax_coordinates = jnp.array(test_coordinates)\n",
        "\n",
        "    info_file = 'ani-2x_8x.info'\n",
        "    # Loads info file\n",
        "    const_file, sae_file, _ensemble_prefix, _ensemble_size = parse_neurochem_resources(info_file)\n",
        "\n",
        "    consts = Constants(const_file)\n",
        "    jax_aev_computer = AEVComputer(**consts)\n",
        "    jax_species_converter = SpeciesConverter(consts.species)\n",
        "    jax_energy_shifter, _sae_dict = load_sae(sae_file, return_dict=True)\n",
        "\n",
        "    # Converts species from periodic table index to internal ordering scheme\n",
        "    jax_species, jax_coordinates = jax_species_converter((\n",
        "        jax_species, jax_coordinates))\n",
        "    # Computes AEVs\n",
        "    jax_species, jax_aevs = jax_aev_computer.forward((jax_species, jax_coordinates))\n",
        "    # Load ensemble model and params from restored state\n",
        "    if not os.path.exists(os.path.join(CKPT_DIR, f'{CKPT_PREFIX}0')):\n",
        "        generate_test_checkpoint()\n",
        "    restored_state = checkpoints.restore_checkpoint(ckpt_dir=CKPT_DIR, target=None, prefix=CKPT_PREFIX)\n",
        "    rebuilt_model_ensemble = rebuild_model_ensemble(restored_state['params'])\n",
        "    # Calculates potential energy\n",
        "    _, total_energy = rebuilt_model_ensemble.apply(restored_state['params'], (jax_species, jax_aevs))\n",
        "    # Adds atomic energies\n",
        "    total_energy = total_energy + jax_energy_shifter.sae(jax_species)\n",
        "    return total_energy\n",
        "\n",
        "if __name__ == '__main__':\n",
        "    test_species = [[6, 1, 7, 8, 1]]\n",
        "    test_coordinates = [[\n",
        "        [0.03192167, 0.00638559, 0.01301679],\n",
        "        [-0.83140486, 0.39370209, -0.26395324],\n",
        "        [-0.66518241, -0.84461308, 0.20759389],\n",
        "        [0.45554739, 0.54289633, 0.81170881],\n",
        "        [0.66091919, -0.16799635, -0.91037834]]]\n",
        "    energy = jax_energy_from_restored_state(test_species, test_coordinates)\n",
        "    print(energy)"
      ],
      "metadata": {
        "colab": {
          "base_uri": "https://localhost:8080/"
        },
        "id": "SkDfAak-hb4Y",
        "outputId": "5d0564ef-0d62-4e0f-a36d-f705a6467f1c"
      },
      "execution_count": 5,
      "outputs": [
        {
          "output_type": "stream",
          "name": "stdout",
          "text": [
            "Downloading ANI model parameters ...\n",
            "[-168.81503569]\n"
          ]
        }
      ]
    },
    {
      "cell_type": "markdown",
      "source": [
        "The calculated enregy from `jaxani` is -168.81503569"
      ],
      "metadata": {
        "id": "gi4fmV6zOSbW"
      }
    },
    {
      "cell_type": "markdown",
      "source": [
        "# Performance"
      ],
      "metadata": {
        "id": "tRcsh75dHMY6"
      }
    },
    {
      "cell_type": "markdown",
      "source": [
        "From manual testing on local device, the energy calculation takes 2.04 seconds before optimization."
      ],
      "metadata": {
        "id": "FNpsNlFXIapD"
      }
    },
    {
      "cell_type": "code",
      "source": [
        "# %%timeit\n",
        "# energy = jax_energy_from_restored_state(test_species, test_coordinates)"
      ],
      "metadata": {
        "id": "pvwq8ndYl7jX"
      },
      "execution_count": null,
      "outputs": []
    },
    {
      "cell_type": "markdown",
      "source": [
        "Colab `%%timeit` shows the energy calculation starting from loading model takes 4.5 s ± 691 ms"
      ],
      "metadata": {
        "id": "8qi2K8biIkUM"
      }
    },
    {
      "cell_type": "markdown",
      "source": [
        "# Validation"
      ],
      "metadata": {
        "id": "YHUcmFb9MrqY"
      }
    },
    {
      "cell_type": "markdown",
      "source": [
        "We import `torchani` module to validate the same output given the test input."
      ],
      "metadata": {
        "id": "2qJkzc29NiqZ"
      }
    },
    {
      "cell_type": "code",
      "source": [
        "!pip install torchani"
      ],
      "metadata": {
        "colab": {
          "base_uri": "https://localhost:8080/",
          "height": 568
        },
        "id": "YthN6UiKM3-u",
        "outputId": "1c85b3bb-f2fa-42fe-faa4-5f76df03998c"
      },
      "execution_count": 6,
      "outputs": [
        {
          "output_type": "stream",
          "name": "stdout",
          "text": [
            "Collecting torchani\n",
            "  Downloading torchani-2.2.4-py3-none-any.whl (10.9 MB)\n",
            "\u001b[2K     \u001b[90m━━━━━━━━━━━━━━━━━━━━━━━━━━━━━━━━━━━━━━━━\u001b[0m \u001b[32m10.9/10.9 MB\u001b[0m \u001b[31m48.4 MB/s\u001b[0m eta \u001b[36m0:00:00\u001b[0m\n",
            "\u001b[?25hRequirement already satisfied: torch in /usr/local/lib/python3.10/dist-packages (from torchani) (2.1.0+cu121)\n",
            "Collecting lark-parser (from torchani)\n",
            "  Downloading lark_parser-0.12.0-py2.py3-none-any.whl (103 kB)\n",
            "\u001b[2K     \u001b[90m━━━━━━━━━━━━━━━━━━━━━━━━━━━━━━━━━━━━━━━━\u001b[0m \u001b[32m103.5/103.5 kB\u001b[0m \u001b[31m14.6 MB/s\u001b[0m eta \u001b[36m0:00:00\u001b[0m\n",
            "\u001b[?25hRequirement already satisfied: requests in /usr/local/lib/python3.10/dist-packages (from torchani) (2.31.0)\n",
            "Requirement already satisfied: importlib-metadata in /usr/local/lib/python3.10/dist-packages (from torchani) (7.0.1)\n",
            "Requirement already satisfied: zipp>=0.5 in /usr/local/lib/python3.10/dist-packages (from importlib-metadata->torchani) (3.17.0)\n",
            "Requirement already satisfied: charset-normalizer<4,>=2 in /usr/local/lib/python3.10/dist-packages (from requests->torchani) (3.3.2)\n",
            "Requirement already satisfied: idna<4,>=2.5 in /usr/local/lib/python3.10/dist-packages (from requests->torchani) (3.6)\n",
            "Requirement already satisfied: urllib3<3,>=1.21.1 in /usr/local/lib/python3.10/dist-packages (from requests->torchani) (2.0.7)\n",
            "Requirement already satisfied: certifi>=2017.4.17 in /usr/local/lib/python3.10/dist-packages (from requests->torchani) (2024.2.2)\n",
            "Requirement already satisfied: filelock in /usr/local/lib/python3.10/dist-packages (from torch->torchani) (3.13.1)\n",
            "Requirement already satisfied: typing-extensions in /usr/local/lib/python3.10/dist-packages (from torch->torchani) (4.9.0)\n",
            "Requirement already satisfied: sympy in /usr/local/lib/python3.10/dist-packages (from torch->torchani) (1.12)\n",
            "Requirement already satisfied: networkx in /usr/local/lib/python3.10/dist-packages (from torch->torchani) (3.2.1)\n",
            "Requirement already satisfied: jinja2 in /usr/local/lib/python3.10/dist-packages (from torch->torchani) (3.1.3)\n",
            "Requirement already satisfied: fsspec in /usr/local/lib/python3.10/dist-packages (from torch->torchani) (2023.6.0)\n",
            "Requirement already satisfied: triton==2.1.0 in /usr/local/lib/python3.10/dist-packages (from torch->torchani) (2.1.0)\n",
            "Requirement already satisfied: MarkupSafe>=2.0 in /usr/local/lib/python3.10/dist-packages (from jinja2->torch->torchani) (2.1.5)\n",
            "Requirement already satisfied: mpmath>=0.19 in /usr/local/lib/python3.10/dist-packages (from sympy->torch->torchani) (1.3.0)\n",
            "Installing collected packages: lark-parser, torchani\n",
            "Successfully installed lark-parser-0.12.0 torchani-2.2.4\n"
          ]
        },
        {
          "output_type": "display_data",
          "data": {
            "application/vnd.colab-display-data+json": {
              "pip_warning": {
                "packages": [
                  "lark"
                ]
              }
            }
          },
          "metadata": {}
        }
      ]
    },
    {
      "cell_type": "code",
      "source": [
        "# -*- coding: utf-8 -*-\n",
        "\"\"\"\n",
        "Computing Energy and Force Using Models Inside Model Zoo\n",
        "========================================================\n",
        "\n",
        "TorchANI has a model zoo trained by NeuroChem. These models are shipped with\n",
        "TorchANI and can be used directly.\n",
        "\"\"\"\n",
        "\n",
        "###############################################################################\n",
        "# To begin with, let's first import the modules we will use:\n",
        "import torch\n",
        "import torchani\n",
        "\n",
        "###############################################################################\n",
        "# Let's now manually specify the device we want TorchANI to run:\n",
        "device = torch.device('cuda' if torch.cuda.is_available() else 'cpu')\n",
        "\n",
        "###############################################################################\n",
        "# Let's now load the built-in ANI-1ccx models. The builtin ANI-1ccx contains 8\n",
        "# models trained with diffrent initialization. Predicting the energy and force\n",
        "# using the average of the 8 models outperform using a single model, so it is\n",
        "# always recommended to use an ensemble, unless the speed of computation is an\n",
        "# issue in your application.\n",
        "#\n",
        "# The ``periodic_table_index`` arguments tells TorchANI to use element index\n",
        "# in periodic table to index species. If not specified, you need to use\n",
        "# 0, 1, 2, 3, ... to index species\n",
        "model = torchani.models.ANI2x(periodic_table_index=True).to(device)\n",
        "\n",
        "###############################################################################\n",
        "# Now let's define the coordinate and species. If you just want to compute the\n",
        "# energy and force for a single structure like in this example, you need to\n",
        "# make the coordinate tensor has shape ``(1, Na, 3)`` and species has shape\n",
        "# ``(1, Na)``, where ``Na`` is the number of atoms in the molecule, the\n",
        "# preceding ``1`` in the shape is here to support batch processing like in\n",
        "# training. If you have ``N`` different structures to compute, then make it\n",
        "# ``N``.\n",
        "#\n",
        "# .. note:: The coordinates are in Angstrom, and the energies you get are in Hartree\n",
        "# coordinates = torch.tensor([[[0.03192167, 0.00638559, 0.01301679],\n",
        "#                              [-0.83140486, 0.39370209, -0.26395324],\n",
        "#                              [-0.66518241, -0.84461308, 0.20759389],\n",
        "#                              [0.45554739, 0.54289633, 0.81170881],\n",
        "#                              [0.66091919, -0.16799635, -0.91037834]]],\n",
        "#                            requires_grad=True, device=device)\n",
        "# # In periodic table, C = 6 and H = 1\n",
        "# species = torch.tensor([[6, 1, 1, 1, 1]], device=device)\n",
        "\n",
        "coordinates = torch.tensor([[[0.03192167, 0.00638559, 0.01301679],\n",
        "                             [-0.83140486, 0.39370209, -0.26395324],\n",
        "                             [-0.66518241, -0.84461308, 0.20759389],\n",
        "                             [0.45554739, 0.54289633, 0.81170881],\n",
        "                             [0.66091919, -0.16799635, -0.91037834]]],\n",
        "                           requires_grad=True, device=device)\n",
        "species = torch.tensor([[6, 1, 7, 8, 1]], device=device)\n",
        "\n",
        "###############################################################################\n",
        "# Now let's compute energy and force:\n",
        "energy = model((species, coordinates)).energies\n",
        "derivative = torch.autograd.grad(energy.sum(), coordinates)[0]\n",
        "force = -derivative\n",
        "\n",
        "###############################################################################\n",
        "# And print to see the result:\n",
        "print('Energy:', energy.item())\n",
        "# print('Force:', force.squeeze())"
      ],
      "metadata": {
        "colab": {
          "base_uri": "https://localhost:8080/"
        },
        "id": "_rMrTJkYH3j3",
        "outputId": "981a2f00-2006-494c-8990-0b9401e2f4e2"
      },
      "execution_count": 7,
      "outputs": [
        {
          "output_type": "stream",
          "name": "stderr",
          "text": [
            "/usr/local/lib/python3.10/dist-packages/torchani/aev.py:16: UserWarning: cuaev not installed\n",
            "  warnings.warn(\"cuaev not installed\")\n",
            "/usr/local/lib/python3.10/dist-packages/torchani/__init__.py:55: UserWarning: Dependency not satisfied, torchani.ase will not be available\n",
            "  warnings.warn(\"Dependency not satisfied, torchani.ase will not be available\")\n"
          ]
        },
        {
          "output_type": "stream",
          "name": "stdout",
          "text": [
            "/usr/local/lib/python3.10/dist-packages/torchani/resources/\n",
            "Downloading ANI model parameters ...\n",
            "Energy: -168.8150356803993\n"
          ]
        }
      ]
    },
    {
      "cell_type": "markdown",
      "source": [
        "The calculated energy is -168.81503562079465."
      ],
      "metadata": {
        "id": "9GRM-nV-OPA3"
      }
    }
  ]
}